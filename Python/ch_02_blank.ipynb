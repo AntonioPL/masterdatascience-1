{
 "cells": [
  {
   "cell_type": "markdown",
   "metadata": {
    "collapsed": true
   },
   "source": [
    "## Top 10 arrival airports in the world in 2013 (using the bookings file)\n",
    "\n",
    "Arrival airport is the column arr_port. It is the IATA code for the airport\n",
    "\n",
    "To get the total number of passengers for an airport, you can sum the column pax, grouping by arr_port.\n",
    "\n",
    "Note that there is negative pax. That corresponds to cancelations. So to get the total number of passengers that have actually booked, you should sum including the negatives (that will remove the canceled bookings).\n",
    "\n",
    "Print the top 10 arrival airports in the standard output, including the number of passengers.\n",
    "\n",
    "Bonus point: Get the name of the city or airport corresponding to that airport (programatically, we suggest to have a look at GeoBases in Github)\n",
    "\n",
    "Bonus point: Solve this problem using pandas (instead of any other approach)\n"
   ]
  },
  {
   "cell_type": "markdown",
   "metadata": {},
   "source": [
    "* Get familiar with data\n",
    "* Select the columns of interest\n",
    "* What to do with NaN?\n",
    "\n",
    "* Make action plan\n",
    "* Develop the code that works with a sample\n",
    "\n",
    "* Adjust the code to work with Big data\n",
    "* Test big data approach on a sample\n",
    "\n",
    "* Run program with big data\n"
   ]
  },
  {
   "cell_type": "markdown",
   "metadata": {},
   "source": [
    "## 1) Get familiar with data"
   ]
  },
  {
   "cell_type": "code",
   "execution_count": 1,
   "metadata": {
    "collapsed": true
   },
   "outputs": [],
   "source": [
    "import pandas as pd"
   ]
  },
  {
   "cell_type": "code",
   "execution_count": 2,
   "metadata": {
    "collapsed": true
   },
   "outputs": [],
   "source": [
    "path_to_zips = '/home/dsc/Data/challenge/'\n",
    "path_to_file = path_to_zips+ 'bookings.csv.bz2'"
   ]
  },
  {
   "cell_type": "markdown",
   "metadata": {},
   "source": [
    "### What if we dont want to read the whole file?"
   ]
  },
  {
   "cell_type": "markdown",
   "metadata": {},
   "source": [
    "Options:\n",
    "\n",
    "* prepare the sample\n",
    "\n",
    "* read_csv with nrows option"
   ]
  },
  {
   "cell_type": "code",
   "execution_count": 3,
   "metadata": {},
   "outputs": [
    {
     "data": {
      "text/html": [
       "<div>\n",
       "<style>\n",
       "    .dataframe thead tr:only-child th {\n",
       "        text-align: right;\n",
       "    }\n",
       "\n",
       "    .dataframe thead th {\n",
       "        text-align: left;\n",
       "    }\n",
       "\n",
       "    .dataframe tbody tr th {\n",
       "        vertical-align: top;\n",
       "    }\n",
       "</style>\n",
       "<table border=\"1\" class=\"dataframe\">\n",
       "  <thead>\n",
       "    <tr style=\"text-align: right;\">\n",
       "      <th></th>\n",
       "      <th>act_date</th>\n",
       "      <th>source</th>\n",
       "      <th>pos_ctry</th>\n",
       "      <th>pos_iata</th>\n",
       "      <th>pos_oid</th>\n",
       "      <th>rloc</th>\n",
       "      <th>cre_date</th>\n",
       "      <th>duration</th>\n",
       "      <th>distance</th>\n",
       "      <th>dep_port</th>\n",
       "      <th>...</th>\n",
       "      <th>route</th>\n",
       "      <th>carrier</th>\n",
       "      <th>bkg_class</th>\n",
       "      <th>cab_class</th>\n",
       "      <th>brd_time</th>\n",
       "      <th>off_time</th>\n",
       "      <th>pax</th>\n",
       "      <th>year</th>\n",
       "      <th>month</th>\n",
       "      <th>oid</th>\n",
       "    </tr>\n",
       "  </thead>\n",
       "  <tbody>\n",
       "    <tr>\n",
       "      <th>0</th>\n",
       "      <td>2013-03-05 00:00:00</td>\n",
       "      <td>1A</td>\n",
       "      <td>DE</td>\n",
       "      <td>a68dd7ae953c8acfb187a1af2dcbe123</td>\n",
       "      <td>1a11ae49fcbf545fd2afc1a24d88d2b7</td>\n",
       "      <td>ea65900e72d71f4626378e2ebd298267</td>\n",
       "      <td>2013-02-22 00:00:00</td>\n",
       "      <td>1708</td>\n",
       "      <td>0</td>\n",
       "      <td>ZRH</td>\n",
       "      <td>...</td>\n",
       "      <td>LHRZRH</td>\n",
       "      <td>VI</td>\n",
       "      <td>T</td>\n",
       "      <td>Y</td>\n",
       "      <td>2013-03-07 08:50:00</td>\n",
       "      <td>2013-03-07 11:33:37</td>\n",
       "      <td>-1</td>\n",
       "      <td>2013</td>\n",
       "      <td>3</td>\n",
       "      <td>NULL</td>\n",
       "    </tr>\n",
       "    <tr>\n",
       "      <th>1</th>\n",
       "      <td>2013-03-26 00:00:00</td>\n",
       "      <td>1A</td>\n",
       "      <td>US</td>\n",
       "      <td>e612b9eeeee6f17f42d9b0d3b79e75ca</td>\n",
       "      <td>7437560d8f276d6d05eeb806d9e7edee</td>\n",
       "      <td>737295a86982c941f1c2da9a46a14043</td>\n",
       "      <td>2013-03-26 00:00:00</td>\n",
       "      <td>135270</td>\n",
       "      <td>0</td>\n",
       "      <td>SAL</td>\n",
       "      <td>...</td>\n",
       "      <td>SALATLCLT</td>\n",
       "      <td>NV</td>\n",
       "      <td>L</td>\n",
       "      <td>Y</td>\n",
       "      <td>2013-04-12 13:04:00</td>\n",
       "      <td>2013-04-12 22:05:40</td>\n",
       "      <td>1</td>\n",
       "      <td>2013</td>\n",
       "      <td>3</td>\n",
       "      <td>NULL</td>\n",
       "    </tr>\n",
       "    <tr>\n",
       "      <th>2</th>\n",
       "      <td>2013-03-26 00:00:00</td>\n",
       "      <td>1A</td>\n",
       "      <td>US</td>\n",
       "      <td>e612b9eeeee6f17f42d9b0d3b79e75ca</td>\n",
       "      <td>7437560d8f276d6d05eeb806d9e7edee</td>\n",
       "      <td>737295a86982c941f1c2da9a46a14043</td>\n",
       "      <td>2013-03-26 00:00:00</td>\n",
       "      <td>135270</td>\n",
       "      <td>0</td>\n",
       "      <td>SAL</td>\n",
       "      <td>...</td>\n",
       "      <td>CLTATLSAL</td>\n",
       "      <td>NV</td>\n",
       "      <td>U</td>\n",
       "      <td>Y</td>\n",
       "      <td>2013-07-15 07:00:00</td>\n",
       "      <td>2013-07-15 11:34:51</td>\n",
       "      <td>1</td>\n",
       "      <td>2013</td>\n",
       "      <td>3</td>\n",
       "      <td>NULL</td>\n",
       "    </tr>\n",
       "    <tr>\n",
       "      <th>3</th>\n",
       "      <td>2013-03-26 00:00:00</td>\n",
       "      <td>1A</td>\n",
       "      <td>AU</td>\n",
       "      <td>0f984b3bb6bd06661c95529bbd6193bc</td>\n",
       "      <td>36472c6dbaf7afec9136ac40364e2794</td>\n",
       "      <td>5ecf00fdcbcec761c43dc7285253d0c1</td>\n",
       "      <td>2013-03-26 00:00:00</td>\n",
       "      <td>30885</td>\n",
       "      <td>0</td>\n",
       "      <td>AKL</td>\n",
       "      <td>...</td>\n",
       "      <td>AKLHKGSVO</td>\n",
       "      <td>XK</td>\n",
       "      <td>G</td>\n",
       "      <td>Y</td>\n",
       "      <td>2013-04-24 23:59:00</td>\n",
       "      <td>2013-04-25 16:06:31</td>\n",
       "      <td>1</td>\n",
       "      <td>2013</td>\n",
       "      <td>3</td>\n",
       "      <td>SYDA82546</td>\n",
       "    </tr>\n",
       "    <tr>\n",
       "      <th>4</th>\n",
       "      <td>2013-03-26 00:00:00</td>\n",
       "      <td>1A</td>\n",
       "      <td>AU</td>\n",
       "      <td>0f984b3bb6bd06661c95529bbd6193bc</td>\n",
       "      <td>36472c6dbaf7afec9136ac40364e2794</td>\n",
       "      <td>5ecf00fdcbcec761c43dc7285253d0c1</td>\n",
       "      <td>2013-03-26 00:00:00</td>\n",
       "      <td>30885</td>\n",
       "      <td>0</td>\n",
       "      <td>AKL</td>\n",
       "      <td>...</td>\n",
       "      <td>SVOHKGAKL</td>\n",
       "      <td>XK</td>\n",
       "      <td>G</td>\n",
       "      <td>Y</td>\n",
       "      <td>2013-05-14 20:15:00</td>\n",
       "      <td>2013-05-16 10:44:50</td>\n",
       "      <td>1</td>\n",
       "      <td>2013</td>\n",
       "      <td>3</td>\n",
       "      <td>SYDA82546</td>\n",
       "    </tr>\n",
       "  </tbody>\n",
       "</table>\n",
       "<p>5 rows × 38 columns</p>\n",
       "</div>"
      ],
      "text/plain": [
       "   act_date             source  pos_ctry                          pos_iata  \\\n",
       "0  2013-03-05 00:00:00  1A      DE        a68dd7ae953c8acfb187a1af2dcbe123   \n",
       "1  2013-03-26 00:00:00  1A      US        e612b9eeeee6f17f42d9b0d3b79e75ca   \n",
       "2  2013-03-26 00:00:00  1A      US        e612b9eeeee6f17f42d9b0d3b79e75ca   \n",
       "3  2013-03-26 00:00:00  1A      AU        0f984b3bb6bd06661c95529bbd6193bc   \n",
       "4  2013-03-26 00:00:00  1A      AU        0f984b3bb6bd06661c95529bbd6193bc   \n",
       "\n",
       "                          pos_oid                      rloc            \\\n",
       "0  1a11ae49fcbf545fd2afc1a24d88d2b7  ea65900e72d71f4626378e2ebd298267   \n",
       "1  7437560d8f276d6d05eeb806d9e7edee  737295a86982c941f1c2da9a46a14043   \n",
       "2  7437560d8f276d6d05eeb806d9e7edee  737295a86982c941f1c2da9a46a14043   \n",
       "3  36472c6dbaf7afec9136ac40364e2794  5ecf00fdcbcec761c43dc7285253d0c1   \n",
       "4  36472c6dbaf7afec9136ac40364e2794  5ecf00fdcbcec761c43dc7285253d0c1   \n",
       "\n",
       "   cre_date             duration  distance  dep_port    ...      \\\n",
       "0  2013-02-22 00:00:00      1708         0  ZRH         ...       \n",
       "1  2013-03-26 00:00:00    135270         0  SAL         ...       \n",
       "2  2013-03-26 00:00:00    135270         0  SAL         ...       \n",
       "3  2013-03-26 00:00:00     30885         0  AKL         ...       \n",
       "4  2013-03-26 00:00:00     30885         0  AKL         ...       \n",
       "\n",
       "   route           carrier  bkg_class  cab_class  brd_time             \\\n",
       "0  LHRZRH               VI  T          Y          2013-03-07 08:50:00   \n",
       "1  SALATLCLT            NV  L          Y          2013-04-12 13:04:00   \n",
       "2  CLTATLSAL            NV  U          Y          2013-07-15 07:00:00   \n",
       "3  AKLHKGSVO            XK  G          Y          2013-04-24 23:59:00   \n",
       "4  SVOHKGAKL            XK  G          Y          2013-05-14 20:15:00   \n",
       "\n",
       "   off_time            pax  year month  oid        \n",
       "0  2013-03-07 11:33:37  -1  2013     3  NULL       \n",
       "1  2013-04-12 22:05:40   1  2013     3  NULL       \n",
       "2  2013-07-15 11:34:51   1  2013     3  NULL       \n",
       "3  2013-04-25 16:06:31   1  2013     3  SYDA82546  \n",
       "4  2013-05-16 10:44:50   1  2013     3  SYDA82546  \n",
       "\n",
       "[5 rows x 38 columns]"
      ]
     },
     "execution_count": 3,
     "metadata": {},
     "output_type": "execute_result"
    }
   ],
   "source": [
    "df = pd.read_csv(path_to_file, sep = '^' , nrows = 10000)\n",
    "df.head()"
   ]
  },
  {
   "cell_type": "code",
   "execution_count": 4,
   "metadata": {},
   "outputs": [
    {
     "data": {
      "text/plain": [
       "(10000, 38)"
      ]
     },
     "execution_count": 4,
     "metadata": {},
     "output_type": "execute_result"
    }
   ],
   "source": [
    "df.shape"
   ]
  },
  {
   "cell_type": "markdown",
   "metadata": {},
   "source": [
    "\\* usecols can be used to reduce the table size, but we are going to use a more general approach"
   ]
  },
  {
   "cell_type": "markdown",
   "metadata": {},
   "source": [
    "## 2) Select the columns of interest "
   ]
  },
  {
   "cell_type": "code",
   "execution_count": 5,
   "metadata": {},
   "outputs": [
    {
     "data": {
      "text/html": [
       "<div>\n",
       "<style>\n",
       "    .dataframe thead tr:only-child th {\n",
       "        text-align: right;\n",
       "    }\n",
       "\n",
       "    .dataframe thead th {\n",
       "        text-align: left;\n",
       "    }\n",
       "\n",
       "    .dataframe tbody tr th {\n",
       "        vertical-align: top;\n",
       "    }\n",
       "</style>\n",
       "<table border=\"1\" class=\"dataframe\">\n",
       "  <thead>\n",
       "    <tr style=\"text-align: right;\">\n",
       "      <th></th>\n",
       "      <th>arr_port</th>\n",
       "      <th>year</th>\n",
       "      <th>pax</th>\n",
       "    </tr>\n",
       "  </thead>\n",
       "  <tbody>\n",
       "    <tr>\n",
       "      <th>0</th>\n",
       "      <td>LHR</td>\n",
       "      <td>2013</td>\n",
       "      <td>-1</td>\n",
       "    </tr>\n",
       "    <tr>\n",
       "      <th>1</th>\n",
       "      <td>CLT</td>\n",
       "      <td>2013</td>\n",
       "      <td>1</td>\n",
       "    </tr>\n",
       "    <tr>\n",
       "      <th>2</th>\n",
       "      <td>CLT</td>\n",
       "      <td>2013</td>\n",
       "      <td>1</td>\n",
       "    </tr>\n",
       "    <tr>\n",
       "      <th>3</th>\n",
       "      <td>SVO</td>\n",
       "      <td>2013</td>\n",
       "      <td>1</td>\n",
       "    </tr>\n",
       "    <tr>\n",
       "      <th>4</th>\n",
       "      <td>SVO</td>\n",
       "      <td>2013</td>\n",
       "      <td>1</td>\n",
       "    </tr>\n",
       "  </tbody>\n",
       "</table>\n",
       "</div>"
      ],
      "text/plain": [
       "   arr_port  year  pax\n",
       "0  LHR       2013   -1\n",
       "1  CLT       2013    1\n",
       "2  CLT       2013    1\n",
       "3  SVO       2013    1\n",
       "4  SVO       2013    1"
      ]
     },
     "execution_count": 5,
     "metadata": {},
     "output_type": "execute_result"
    }
   ],
   "source": [
    "df = df[['arr_port','year','pax']]\n",
    "df.head()"
   ]
  },
  {
   "cell_type": "markdown",
   "metadata": {},
   "source": [
    "## 3) What to do with NaN?\n",
    "\n"
   ]
  },
  {
   "cell_type": "markdown",
   "metadata": {},
   "source": [
    "In the sample everything might be ok, but we should prepare for NaN case"
   ]
  },
  {
   "cell_type": "code",
   "execution_count": 6,
   "metadata": {},
   "outputs": [
    {
     "data": {
      "text/html": [
       "<div>\n",
       "<style>\n",
       "    .dataframe thead tr:only-child th {\n",
       "        text-align: right;\n",
       "    }\n",
       "\n",
       "    .dataframe thead th {\n",
       "        text-align: left;\n",
       "    }\n",
       "\n",
       "    .dataframe tbody tr th {\n",
       "        vertical-align: top;\n",
       "    }\n",
       "</style>\n",
       "<table border=\"1\" class=\"dataframe\">\n",
       "  <thead>\n",
       "    <tr style=\"text-align: right;\">\n",
       "      <th></th>\n",
       "      <th>arr_port</th>\n",
       "      <th>year</th>\n",
       "      <th>pax</th>\n",
       "    </tr>\n",
       "  </thead>\n",
       "  <tbody>\n",
       "    <tr>\n",
       "      <th>0</th>\n",
       "      <td>LHR</td>\n",
       "      <td>2013</td>\n",
       "      <td>-1</td>\n",
       "    </tr>\n",
       "    <tr>\n",
       "      <th>1</th>\n",
       "      <td>CLT</td>\n",
       "      <td>2013</td>\n",
       "      <td>1</td>\n",
       "    </tr>\n",
       "    <tr>\n",
       "      <th>2</th>\n",
       "      <td>CLT</td>\n",
       "      <td>2013</td>\n",
       "      <td>1</td>\n",
       "    </tr>\n",
       "    <tr>\n",
       "      <th>3</th>\n",
       "      <td>SVO</td>\n",
       "      <td>2013</td>\n",
       "      <td>1</td>\n",
       "    </tr>\n",
       "    <tr>\n",
       "      <th>4</th>\n",
       "      <td>SVO</td>\n",
       "      <td>2013</td>\n",
       "      <td>1</td>\n",
       "    </tr>\n",
       "  </tbody>\n",
       "</table>\n",
       "</div>"
      ],
      "text/plain": [
       "   arr_port  year  pax\n",
       "0  LHR       2013   -1\n",
       "1  CLT       2013    1\n",
       "2  CLT       2013    1\n",
       "3  SVO       2013    1\n",
       "4  SVO       2013    1"
      ]
     },
     "execution_count": 6,
     "metadata": {},
     "output_type": "execute_result"
    }
   ],
   "source": [
    "import numpy as np\n",
    "\n",
    "df.dropna()\n",
    "df.head()"
   ]
  },
  {
   "cell_type": "markdown",
   "metadata": {},
   "source": [
    "## 4) Ready to code"
   ]
  },
  {
   "cell_type": "markdown",
   "metadata": {},
   "source": [
    "What do we have so far?"
   ]
  },
  {
   "cell_type": "code",
   "execution_count": 7,
   "metadata": {
    "collapsed": true
   },
   "outputs": [],
   "source": [
    "df = pd.read_csv(path_to_file, sep = '^' , nrows = 10000)\n",
    "df = df[['arr_port','year','pax']]\n",
    "df = df.dropna()"
   ]
  },
  {
   "cell_type": "markdown",
   "metadata": {},
   "source": [
    "## 4) make action plan\n",
    "1) get only the bookings from 2013\n",
    "\n",
    "2) group by arr_port\n",
    "\n",
    "3) sort \n",
    "\n",
    "4) get top 10"
   ]
  },
  {
   "cell_type": "markdown",
   "metadata": {},
   "source": [
    "#### 4.1) Get only the booking from 2013"
   ]
  },
  {
   "cell_type": "code",
   "execution_count": 8,
   "metadata": {
    "collapsed": true
   },
   "outputs": [],
   "source": [
    "bookings_2013 = df[df['year'] == 2013]"
   ]
  },
  {
   "cell_type": "markdown",
   "metadata": {},
   "source": [
    "\n",
    "#### 4.2) group by arr_port"
   ]
  },
  {
   "cell_type": "code",
   "execution_count": 9,
   "metadata": {},
   "outputs": [
    {
     "data": {
      "text/plain": [
       "arr_port\n",
       "HKG         112\n",
       "LGA          95\n",
       "ORD          94\n",
       "JFK          92\n",
       "SFO          91\n",
       "LAX          91\n",
       "MCO          90\n",
       "DCA          82\n",
       "DEN          79\n",
       "LHR          76\n",
       "Name: pax, dtype: int64"
      ]
     },
     "execution_count": 9,
     "metadata": {},
     "output_type": "execute_result"
    }
   ],
   "source": [
    "bookings_per_airport = bookings_2013.groupby('arr_port')['pax'].sum()\n",
    "bookings_per_airport.sort_values(ascending = False).head(10)"
   ]
  },
  {
   "cell_type": "markdown",
   "metadata": {},
   "source": [
    "## 5) Adjust the code to work with Big data\n"
   ]
  },
  {
   "cell_type": "markdown",
   "metadata": {},
   "source": [
    "What do we have so far?"
   ]
  },
  {
   "cell_type": "code",
   "execution_count": 10,
   "metadata": {},
   "outputs": [
    {
     "data": {
      "text/plain": [
       "arr_port\n",
       "LHR         1006\n",
       "MCO          861\n",
       "JFK          795\n",
       "LAX          761\n",
       "BKK          747\n",
       "LAS          732\n",
       "SFO          705\n",
       "ORD          686\n",
       "CDG          676\n",
       "DXB          587\n",
       "Name: pax, dtype: int64"
      ]
     },
     "execution_count": 10,
     "metadata": {},
     "output_type": "execute_result"
    }
   ],
   "source": [
    "df = pd.read_csv(path_to_file, sep = '^' , nrows = 100000)\n",
    "df = df[['arr_port','year','pax']]\n",
    "df = df.dropna()\n",
    "bookings_2013 = df[df['year'] == 2013]\n",
    "bookings_per_airport = bookings_2013.groupby('arr_port')['pax'].sum()\n",
    "bookings_per_airport.sort_values(ascending = False).head(10)"
   ]
  },
  {
   "cell_type": "markdown",
   "metadata": {},
   "source": [
    "### But we have to read the whole file... and with nrows we are reading ALWAYS the first N rows...\n"
   ]
  },
  {
   "cell_type": "markdown",
   "metadata": {},
   "source": [
    "\n",
    "Hint: check out https://pandas.pydata.org/pandas-docs/stable/io.html#io-chunking"
   ]
  },
  {
   "cell_type": "code",
   "execution_count": 18,
   "metadata": {},
   "outputs": [
    {
     "name": "stdout",
     "output_type": "stream",
     "text": [
      "<class 'pandas.core.frame.DataFrame'>\n",
      "   act_date             source  pos_ctry                          pos_iata  \\\n",
      "0  2013-03-05 00:00:00  1A      DE        a68dd7ae953c8acfb187a1af2dcbe123   \n",
      "1  2013-03-26 00:00:00  1A      US        e612b9eeeee6f17f42d9b0d3b79e75ca   \n",
      "2  2013-03-26 00:00:00  1A      US        e612b9eeeee6f17f42d9b0d3b79e75ca   \n",
      "3  2013-03-26 00:00:00  1A      AU        0f984b3bb6bd06661c95529bbd6193bc   \n",
      "4  2013-03-26 00:00:00  1A      AU        0f984b3bb6bd06661c95529bbd6193bc   \n",
      "\n",
      "                          pos_oid                      rloc            \\\n",
      "0  1a11ae49fcbf545fd2afc1a24d88d2b7  ea65900e72d71f4626378e2ebd298267   \n",
      "1  7437560d8f276d6d05eeb806d9e7edee  737295a86982c941f1c2da9a46a14043   \n",
      "2  7437560d8f276d6d05eeb806d9e7edee  737295a86982c941f1c2da9a46a14043   \n",
      "3  36472c6dbaf7afec9136ac40364e2794  5ecf00fdcbcec761c43dc7285253d0c1   \n",
      "4  36472c6dbaf7afec9136ac40364e2794  5ecf00fdcbcec761c43dc7285253d0c1   \n",
      "\n",
      "   cre_date             duration  distance  dep_port    ...      \\\n",
      "0  2013-02-22 00:00:00      1708         0  ZRH         ...       \n",
      "1  2013-03-26 00:00:00    135270         0  SAL         ...       \n",
      "2  2013-03-26 00:00:00    135270         0  SAL         ...       \n",
      "3  2013-03-26 00:00:00     30885         0  AKL         ...       \n",
      "4  2013-03-26 00:00:00     30885         0  AKL         ...       \n",
      "\n",
      "   route           carrier  bkg_class  cab_class  brd_time             \\\n",
      "0  LHRZRH               VI  T          Y          2013-03-07 08:50:00   \n",
      "1  SALATLCLT            NV  L          Y          2013-04-12 13:04:00   \n",
      "2  CLTATLSAL            NV  U          Y          2013-07-15 07:00:00   \n",
      "3  AKLHKGSVO            XK  G          Y          2013-04-24 23:59:00   \n",
      "4  SVOHKGAKL            XK  G          Y          2013-05-14 20:15:00   \n",
      "\n",
      "   off_time            pax  year month  oid        \n",
      "0  2013-03-07 11:33:37  -1  2013     3  NULL       \n",
      "1  2013-04-12 22:05:40   1  2013     3  NULL       \n",
      "2  2013-07-15 11:34:51   1  2013     3  NULL       \n",
      "3  2013-04-25 16:06:31   1  2013     3  SYDA82546  \n",
      "4  2013-05-16 10:44:50   1  2013     3  SYDA82546  \n",
      "\n",
      "[5 rows x 38 columns]\n",
      "<class 'pandas.core.frame.DataFrame'>\n",
      "       act_date             source  pos_ctry  \\\n",
      "10000  2013-03-12 00:00:00  1A      DE         \n",
      "10001  2013-03-13 00:00:00  1A      DE         \n",
      "10002  2013-03-13 00:00:00  1A      DE         \n",
      "10003  2013-03-26 00:00:00  1A      DE         \n",
      "10004  2013-03-07 00:00:00  1V      US         \n",
      "\n",
      "                               pos_iata                         pos_oid    \\\n",
      "10000  30371685b6bbf50642bc61117b5bcd1e  765e7d5c49dbeef4e7328e2ccdb1a264   \n",
      "10001  30371685b6bbf50642bc61117b5bcd1e  765e7d5c49dbeef4e7328e2ccdb1a264   \n",
      "10002  30371685b6bbf50642bc61117b5bcd1e  765e7d5c49dbeef4e7328e2ccdb1a264   \n",
      "10003  30371685b6bbf50642bc61117b5bcd1e  765e7d5c49dbeef4e7328e2ccdb1a264   \n",
      "10004  377d925e7036aeb33a26a71e1253f2a3  5b1ad497c09261225bae759bcfc27ef2   \n",
      "\n",
      "                         rloc            cre_date             duration  \\\n",
      "10000  a5fc7cb94405363668f0d9b2124ec248  2013-03-11 00:00:00     18179   \n",
      "10001  a5fc7cb94405363668f0d9b2124ec248  2013-03-11 00:00:00     18179   \n",
      "10002  a5fc7cb94405363668f0d9b2124ec248  2013-03-11 00:00:00     18219   \n",
      "10003  a5fc7cb94405363668f0d9b2124ec248  2013-03-11 00:00:00     18219   \n",
      "10004  f6c13c9d58acc38234a45daa3f13fdeb  2013-03-07 00:00:00      5071   \n",
      "\n",
      "       distance  dep_port    ...     route           carrier  bkg_class  \\\n",
      "10000         0  FRA         ...        REPSGNFRA         GX  Z           \n",
      "10001         0  FRA         ...        REPSGNFRA         GX  Z           \n",
      "10002         0  FRA         ...        REPSGNFRA         GX  Z           \n",
      "10003         0  FRA         ...        SGNREP            GX  B           \n",
      "10004         0  PGV         ...        MCICLTPGV         FD  G           \n",
      "\n",
      "       cab_class  brd_time             off_time            pax  year month  \\\n",
      "10000  C          2013-12-04 18:20:00  2013-12-05 04:54:13   2  2013     3   \n",
      "10001  C          2013-12-04 18:20:00  2013-12-05 04:54:13  -2  2013     3   \n",
      "10002  C          2013-12-04 18:20:00  2013-12-05 05:34:13   2  2013     3   \n",
      "10003  Y          2013-12-01 11:55:00  2013-12-01 13:12:47  -2  2013     3   \n",
      "10004  Y          2013-04-25 15:30:00  2013-04-25 23:30:52   1  2013     3   \n",
      "\n",
      "       oid        \n",
      "10000  NULL       \n",
      "10001  NULL       \n",
      "10002  NULL       \n",
      "10003  NULL       \n",
      "10004  NULL       \n",
      "\n",
      "[5 rows x 38 columns]\n",
      "<class 'pandas.core.frame.DataFrame'>\n",
      "       act_date             source  pos_ctry  \\\n",
      "20000  2013-03-18 00:00:00  1V      US         \n",
      "20001  2013-03-21 00:00:00  1V      US         \n",
      "20002  2013-03-21 00:00:00  1V      US         \n",
      "20003  2013-03-21 00:00:00  1V      US         \n",
      "20004  2013-03-14 00:00:00  1V      US         \n",
      "\n",
      "                               pos_iata                         pos_oid    \\\n",
      "20000  6c3cbba8d96d2d6a4f104a78e73edffd  09f9e4138079760b099d2e2e650c4c35   \n",
      "20001  6c3cbba8d96d2d6a4f104a78e73edffd  09f9e4138079760b099d2e2e650c4c35   \n",
      "20002  6c3cbba8d96d2d6a4f104a78e73edffd  09f9e4138079760b099d2e2e650c4c35   \n",
      "20003  6c3cbba8d96d2d6a4f104a78e73edffd  09f9e4138079760b099d2e2e650c4c35   \n",
      "20004  7575857dc202854e66fec3f1e7f15150  292680d05b8e7e78645aaf1f7b1ed5ff   \n",
      "\n",
      "                         rloc            cre_date             duration  \\\n",
      "20000  e509e16ded66eaed922ae188601c665b  2013-03-18 00:00:00      4308   \n",
      "20001  e509e16ded66eaed922ae188601c665b  2013-03-18 00:00:00      4308   \n",
      "20002  e509e16ded66eaed922ae188601c665b  2013-03-18 00:00:00      4308   \n",
      "20003  e509e16ded66eaed922ae188601c665b  2013-03-18 00:00:00      4308   \n",
      "20004  8e8aac821d8628a519dd99f9ea022944  2013-03-14 00:00:00      5068   \n",
      "\n",
      "       distance  dep_port    ...      route           carrier  bkg_class  \\\n",
      "20000         0  ORD         ...      RDUORD               FK  U           \n",
      "20001         0  ORD         ...      ORDSNA               FK  L           \n",
      "20002         0  ORD         ...      SNAIAHRDU            FK  H           \n",
      "20003         0  ORD         ...      RDUORD               FK  U           \n",
      "20004         0  DCA         ...      DCADFW               KK  Q           \n",
      "\n",
      "       cab_class  brd_time             off_time            pax  year month  \\\n",
      "20000  Y          2013-04-04 16:47:00  2013-04-04 17:48:18   1  2013     3   \n",
      "20001  Y          2013-04-01 18:00:00  2013-04-01 20:03:32  -1  2013     3   \n",
      "20002  Y          2013-04-02 13:01:00  2013-04-02 23:51:11  -1  2013     3   \n",
      "20003  Y          2013-04-04 16:47:00  2013-04-04 17:48:18  -1  2013     3   \n",
      "20004  Y          2013-05-07 08:45:00  2013-05-07 10:48:05   1  2013     3   \n",
      "\n",
      "       oid        \n",
      "20000  NULL       \n",
      "20001  NULL       \n",
      "20002  NULL       \n",
      "20003  NULL       \n",
      "20004  NULL       \n",
      "\n",
      "[5 rows x 38 columns]\n",
      "<class 'pandas.core.frame.DataFrame'>\n",
      "       act_date             source  pos_ctry  \\\n",
      "30000  2013-01-03 00:00:00  1G      PK         \n",
      "30001  2013-01-03 00:00:00  1G      PK         \n",
      "30002  2013-01-04 00:00:00  1G      PK         \n",
      "30003  2013-01-04 00:00:00  1G      PK         \n",
      "30004  2013-01-05 00:00:00  1G      PK         \n",
      "\n",
      "                               pos_iata                         pos_oid    \\\n",
      "30000  fdb5a7fb4af50821da23dd299320928d  b44c38d326d55b8bdc335cfac7abfdcf   \n",
      "30001  fdb5a7fb4af50821da23dd299320928d  b44c38d326d55b8bdc335cfac7abfdcf   \n",
      "30002  fdb5a7fb4af50821da23dd299320928d  b44c38d326d55b8bdc335cfac7abfdcf   \n",
      "30003  fdb5a7fb4af50821da23dd299320928d  b44c38d326d55b8bdc335cfac7abfdcf   \n",
      "30004  fdb5a7fb4af50821da23dd299320928d  b44c38d326d55b8bdc335cfac7abfdcf   \n",
      "\n",
      "                         rloc            cre_date             duration  \\\n",
      "30000  10e0132ddbae8399069b70dc1c3ed0c7  2013-01-03 00:00:00     22610   \n",
      "30001  10e0132ddbae8399069b70dc1c3ed0c7  2013-01-03 00:00:00     22610   \n",
      "30002  10e0132ddbae8399069b70dc1c3ed0c7  2013-01-03 00:00:00     22610   \n",
      "30003  10e0132ddbae8399069b70dc1c3ed0c7  2013-01-03 00:00:00     21170   \n",
      "30004  10e0132ddbae8399069b70dc1c3ed0c7  2013-01-03 00:00:00     21170   \n",
      "\n",
      "       distance  dep_port    ...      route           carrier  bkg_class  \\\n",
      "30000         0  ISB         ...      ISBJED               DG  T           \n",
      "30001         0  ISB         ...      JEDISB               DG  V           \n",
      "30002         0  ISB         ...      ISBJED               DG  T           \n",
      "30003         0  ISB         ...      ISBJED               DG  Q           \n",
      "30004         0  ISB         ...      ISBJED               DG  Q           \n",
      "\n",
      "       cab_class  brd_time             off_time            pax  year month  \\\n",
      "30000  Y          2013-03-30 18:00:00  2013-03-30 21:00:19   7  2013     1   \n",
      "30001  Y          2013-04-15 03:50:00  2013-04-15 10:50:19   7  2013     1   \n",
      "30002  Y          2013-03-30 18:00:00  2013-03-30 21:00:19  -7  2013     1   \n",
      "30003  Y          2013-03-31 18:00:00  2013-03-31 21:00:19   7  2013     1   \n",
      "30004  Y          2013-03-31 18:00:00  2013-03-31 21:00:19  -7  2013     1   \n",
      "\n",
      "       oid        \n",
      "30000  NULL       \n",
      "30001  NULL       \n",
      "30002  NULL       \n",
      "30003  NULL       \n",
      "30004  NULL       \n",
      "\n",
      "[5 rows x 38 columns]\n"
     ]
    },
    {
     "name": "stdout",
     "output_type": "stream",
     "text": [
      "<class 'pandas.core.frame.DataFrame'>\n",
      "       act_date             source  pos_ctry  \\\n",
      "40000  2013-03-14 00:00:00  1P      GB         \n",
      "40001  2013-03-02 00:00:00  1P      GB         \n",
      "40002  2013-03-18 00:00:00  1V      JP         \n",
      "40003  2013-03-18 00:00:00  1V      JP         \n",
      "40004  2013-03-19 00:00:00  1V      JP         \n",
      "\n",
      "                               pos_iata                         pos_oid    \\\n",
      "40000  5350db3ed746676f66afbe1710b6e7a5  f07b266ed6f91c2094dded9b82934bee   \n",
      "40001  08b43d85d0ab8b94ce43f702cc386fc7  ce21de9892c87845b094d40776d8035b   \n",
      "40002  c31e58452e6930ff3f115d370cb3209c  aecc4742b4cdd95f0455c1265cb671bd   \n",
      "40003  c31e58452e6930ff3f115d370cb3209c  aecc4742b4cdd95f0455c1265cb671bd   \n",
      "40004  c31e58452e6930ff3f115d370cb3209c  aecc4742b4cdd95f0455c1265cb671bd   \n",
      "\n",
      "                         rloc            cre_date             duration  \\\n",
      "40000  242c7131e1cc413cac1303c97680a64f  2013-03-02 00:00:00       804   \n",
      "40001  75d29f6a57f7abf93345466eb151a47b  2013-03-02 00:00:00     20012   \n",
      "40002  37ea92066afe7c4bb7f2f6a257da7e87  2013-03-18 00:00:00      4181   \n",
      "40003  37ea92066afe7c4bb7f2f6a257da7e87  2013-03-18 00:00:00      4181   \n",
      "40004  37ea92066afe7c4bb7f2f6a257da7e87  2013-03-18 00:00:00      4181   \n",
      "\n",
      "       distance  dep_port    ...     route           carrier  bkg_class  \\\n",
      "40000      8230  LHR         ...        LHRDXBMAA         OU  M           \n",
      "40001         0  MAN         ...        MANATLOAJ         UV  R           \n",
      "40002         0  NRT         ...        NRTLAXPHX         KK  L           \n",
      "40003         0  NRT         ...        PHXDFWNRT         KK  L           \n",
      "40004         0  NRT         ...        NRTLAXPHX         KK  L           \n",
      "\n",
      "       cab_class  brd_time             off_time            pax  year month  \\\n",
      "40000  Y          2013-03-16 13:35:00  2013-03-17 08:29:58  -1  2013     3   \n",
      "40001  Y          2013-03-08 10:10:00  2013-03-08 17:53:10   1  2013     3   \n",
      "40002  Y          2013-05-15 15:55:00  2013-05-15 13:49:55   1  2013     3   \n",
      "40003  Y          2013-05-17 05:35:00  2013-05-18 13:36:10   1  2013     3   \n",
      "40004  Y          2013-05-15 15:55:00  2013-05-15 13:49:55  -1  2013     3   \n",
      "\n",
      "       oid        \n",
      "40000  NULL       \n",
      "40001  NULL       \n",
      "40002  NULL       \n",
      "40003  NULL       \n",
      "40004  NULL       \n",
      "\n",
      "[5 rows x 38 columns]\n",
      "<class 'pandas.core.frame.DataFrame'>\n",
      "       act_date             source  pos_ctry  \\\n",
      "50000  2013-01-03 00:00:00  1A      US         \n",
      "50001  2013-01-03 00:00:00  1A      US         \n",
      "50002  2013-01-03 00:00:00  1A      US         \n",
      "50003  2013-01-04 00:00:00  1A      US         \n",
      "50004  2013-01-04 00:00:00  1A      US         \n",
      "\n",
      "                               pos_iata                         pos_oid    \\\n",
      "50000  9a5bced2e9921f40349e3ff35afac4a9  4ace0c4a8a1420a4b35530c03ef9ee01   \n",
      "50001  9a5bced2e9921f40349e3ff35afac4a9  4ace0c4a8a1420a4b35530c03ef9ee01   \n",
      "50002  9a5bced2e9921f40349e3ff35afac4a9  4ace0c4a8a1420a4b35530c03ef9ee01   \n",
      "50003  9a5bced2e9921f40349e3ff35afac4a9  4ace0c4a8a1420a4b35530c03ef9ee01   \n",
      "50004  9a5bced2e9921f40349e3ff35afac4a9  4ace0c4a8a1420a4b35530c03ef9ee01   \n",
      "\n",
      "                         rloc            cre_date             duration  \\\n",
      "50000  4ebffaad36bb3a2d1c711e48ce42859d  2013-01-03 00:00:00     11778   \n",
      "50001  4ebffaad36bb3a2d1c711e48ce42859d  2013-01-03 00:00:00     11778   \n",
      "50002  4ebffaad36bb3a2d1c711e48ce42859d  2013-01-03 00:00:00     11778   \n",
      "50003  4ebffaad36bb3a2d1c711e48ce42859d  2013-01-03 00:00:00     11778   \n",
      "50004  4ebffaad36bb3a2d1c711e48ce42859d  2013-01-03 00:00:00     11778   \n",
      "\n",
      "       distance  dep_port    ...      route           carrier  bkg_class  \\\n",
      "50000         0  DEN         ...      DENORDFRAMLA         FK  T           \n",
      "50001         0  DEN         ...      MLAFCOCAI            WD  K           \n",
      "50002         0  DEN         ...      CAIFRADEN            VR  Q           \n",
      "50003         0  DEN         ...      DENORDFRAMLA         FK  T           \n",
      "50004         0  DEN         ...      MLAFCOCAI            WD  K           \n",
      "\n",
      "       cab_class  brd_time             off_time            pax  year month  \\\n",
      "50000  Y          2013-01-27 08:35:00  2013-01-28 12:29:14   1  2013     1   \n",
      "50001  Y          2013-01-30 08:30:00  2013-01-30 17:59:37   1  2013     1   \n",
      "50002  Y          2013-02-04 03:15:00  2013-02-04 12:53:31   1  2013     1   \n",
      "50003  Y          2013-01-27 08:35:00  2013-01-28 12:29:14  -1  2013     1   \n",
      "50004  Y          2013-01-30 08:30:00  2013-01-30 17:59:37  -1  2013     1   \n",
      "\n",
      "       oid        \n",
      "50000  CAK1S210E  \n",
      "50001  CAK1S210E  \n",
      "50002  CAK1S210E  \n",
      "50003  CAK1S210E  \n",
      "50004  CAK1S210E  \n",
      "\n",
      "[5 rows x 38 columns]\n",
      "<class 'pandas.core.frame.DataFrame'>\n",
      "       act_date             source  pos_ctry  \\\n",
      "60000  2013-01-15 00:00:00  1S      US         \n",
      "60001  2013-01-05 00:00:00  1S      US         \n",
      "60002  2013-01-05 00:00:00  1S      US         \n",
      "60003  2013-01-07 00:00:00  1S      US         \n",
      "60004  2013-01-07 00:00:00  1S      US         \n",
      "\n",
      "                               pos_iata                         pos_oid    \\\n",
      "60000  45a74568a54f4f0157ea7326a85c7615  679dc08840fc876c4ed9e869c949f379   \n",
      "60001  176fee9f5eb351d086332dc940716c5f  db6ca74b2e781974654cbae18d912c21   \n",
      "60002  176fee9f5eb351d086332dc940716c5f  db6ca74b2e781974654cbae18d912c21   \n",
      "60003  176fee9f5eb351d086332dc940716c5f  db6ca74b2e781974654cbae18d912c21   \n",
      "60004  176fee9f5eb351d086332dc940716c5f  db6ca74b2e781974654cbae18d912c21   \n",
      "\n",
      "                         rloc            cre_date             duration  \\\n",
      "60000  0b0a68a000f52f53e151704fa54420bb  2013-01-15 00:00:00     11056   \n",
      "60001  15e375eb54b6881f9678b56d85a478c7  2012-12-18 00:00:00     93384   \n",
      "60002  15e375eb54b6881f9678b56d85a478c7  2012-12-18 00:00:00     93384   \n",
      "60003  15e375eb54b6881f9678b56d85a478c7  2012-12-18 00:00:00     93384   \n",
      "60004  15e375eb54b6881f9678b56d85a478c7  2012-12-18 00:00:00     93384   \n",
      "\n",
      "       distance  dep_port    ...      route           carrier  bkg_class  \\\n",
      "60000         0  SEA         ...      CHSDFWSEA            KK  Q           \n",
      "60001         0  JFK         ...      JFKCAI               WD  K           \n",
      "60002         0  JFK         ...      JFKCAI               WD  S           \n",
      "60003         0  JFK         ...      JFKCAI               WD  S           \n",
      "60004         0  JFK         ...      JFKCAI               WD  K           \n",
      "\n",
      "       cab_class  brd_time             off_time            pax  year month  \\\n",
      "60000  Y          2013-01-31 18:15:00  2013-01-31 23:51:13   1  2013     1   \n",
      "60001  Y          2013-06-08 18:30:00  2013-06-09 11:54:03  -1  2013     1   \n",
      "60002  Y          2013-06-08 18:30:00  2013-06-09 11:54:03   1  2013     1   \n",
      "60003  Y          2013-06-08 18:30:00  2013-06-09 11:54:03  -1  2013     1   \n",
      "60004  Y          2013-06-08 18:30:00  2013-06-09 11:54:03   1  2013     1   \n",
      "\n",
      "       oid        \n",
      "60000  NULL       \n",
      "60001  NULL       \n",
      "60002  NULL       \n",
      "60003  NULL       \n",
      "60004  NULL       \n",
      "\n",
      "[5 rows x 38 columns]\n",
      "<class 'pandas.core.frame.DataFrame'>\n",
      "       act_date             source  pos_ctry  \\\n",
      "70000  2013-01-22 00:00:00  1S      BR         \n",
      "70001  2013-01-08 00:00:00  1S      IL         \n",
      "70002  2013-01-14 00:00:00  1S      IL         \n",
      "70003  2013-01-09 00:00:00  1S      OM         \n",
      "70004  2013-01-02 00:00:00  1S      IT         \n",
      "\n",
      "                               pos_iata                         pos_oid    \\\n",
      "70000  2fb50b68092f30d41a14b81bbd3cfba7  c32766e9db308acb307f8dbba1f89504   \n",
      "70001  434ce427f4e4ff4f41b16a105fca61e3  7c9e6ccd2126ac064e3e5f128c4811ba   \n",
      "70002  434ce427f4e4ff4f41b16a105fca61e3  7c9e6ccd2126ac064e3e5f128c4811ba   \n",
      "70003  83ce708f2c2bf59f583a555d04d269ad  4eb5251ca89b9c91fa275a7a3f2629ef   \n",
      "70004  9222ab44126311c65b4965519830863d  fc9b98b18e47da730cf62eb7efdb77ac   \n",
      "\n",
      "                         rloc            cre_date             duration  \\\n",
      "70000  72f835e15838020ec0e5536632c63521  2012-11-10 00:00:00      1283   \n",
      "70001  42a53a61ae9978de332bd1eef9bd407f  2013-01-08 00:00:00        67   \n",
      "70002  42a53a61ae9978de332bd1eef9bd407f  2013-01-08 00:00:00        67   \n",
      "70003  1468fb69965ab1d21b89c2ca1046a03d  2013-01-09 00:00:00       212   \n",
      "70004  fb103633565fe8517a41ff36e8ad969e  2012-12-31 00:00:00     62236   \n",
      "\n",
      "       distance  dep_port    ...      route           carrier  bkg_class  \\\n",
      "70000      5567  MIA         ...      MIAATLGRUFOR         NV  N           \n",
      "70001       272  TLV         ...      TLVETH               VJ  U           \n",
      "70002       272  TLV         ...      TLVETH               VJ  U           \n",
      "70003      2326  MCT         ...      MCTCCJ               HJ  L           \n",
      "70004         0  NCE         ...      NCELISREC            EA  K           \n",
      "\n",
      "       cab_class  brd_time             off_time            pax  year month  \\\n",
      "70000  Y          2013-04-16 17:45:00  2013-04-17 16:08:30   1  2013     1   \n",
      "70001  Y          2013-03-04 11:25:00  2013-03-04 12:32:13   1  2013     1   \n",
      "70002  Y          2013-03-04 11:25:00  2013-03-04 12:32:13  -1  2013     1   \n",
      "70003  Y          2013-01-11 09:30:00  2013-01-11 14:32:09   1  2013     1   \n",
      "70004  Y          2013-02-10 11:55:00  2013-02-10 21:11:11  -2  2013     1   \n",
      "\n",
      "       oid        \n",
      "70000  NULL       \n",
      "70001  NULL       \n",
      "70002  NULL       \n",
      "70003  NULL       \n",
      "70004  NULL       \n",
      "\n",
      "[5 rows x 38 columns]\n"
     ]
    },
    {
     "name": "stdout",
     "output_type": "stream",
     "text": [
      "<class 'pandas.core.frame.DataFrame'>\n",
      "       act_date             source  pos_ctry  \\\n",
      "80000  2013-03-25 00:00:00  1G      IT         \n",
      "80001  2013-03-25 00:00:00  1G      IT         \n",
      "80002  2013-03-25 00:00:00  1G      ZA         \n",
      "80003  2013-03-25 00:00:00  1G      ZA         \n",
      "80004  2013-03-27 00:00:00  1G      ZA         \n",
      "\n",
      "                               pos_iata                         pos_oid    \\\n",
      "80000  e9e3789bfb59e9104dd4ed380e3c9ab4  a9246cc5e9290c95be28e3e3ca485ab1   \n",
      "80001  e9e3789bfb59e9104dd4ed380e3c9ab4  a9246cc5e9290c95be28e3e3ca485ab1   \n",
      "80002  ed290e603621379416b08bcf152989db  2008b3fb12d8be10b49538617a241a1b   \n",
      "80003  ed290e603621379416b08bcf152989db  2008b3fb12d8be10b49538617a241a1b   \n",
      "80004  ed290e603621379416b08bcf152989db  2008b3fb12d8be10b49538617a241a1b   \n",
      "\n",
      "                         rloc            cre_date             duration  \\\n",
      "80000  ebf7392ddb51487937b8873f4524f247  2013-03-20 00:00:00      6438   \n",
      "80001  ebf7392ddb51487937b8873f4524f247  2013-03-20 00:00:00      6438   \n",
      "80002  9b6534bef580bc2c249305d362604b5c  2013-03-25 00:00:00     15241   \n",
      "80003  9b6534bef580bc2c249305d362604b5c  2013-03-25 00:00:00     15241   \n",
      "80004  9b6534bef580bc2c249305d362604b5c  2013-03-25 00:00:00     15241   \n",
      "\n",
      "       distance  dep_port    ...      route           carrier  bkg_class  \\\n",
      "80000         0  FCO         ...      FCOVIE               KK  X           \n",
      "80001         0  FCO         ...      VIEFCO               KK  M           \n",
      "80002         0  JNB         ...      JNBFRAOPO            VR  Y           \n",
      "80003         0  JNB         ...      OPOFRAJNB            VR  E           \n",
      "80004         0  JNB         ...      JNBFRAOPO            VR  Y           \n",
      "\n",
      "       cab_class  brd_time             off_time            pax  year month  \\\n",
      "80000  Y          2013-04-22 09:00:00  2013-04-22 10:43:01   2  2013     3   \n",
      "80001  Y          2013-04-26 18:35:00  2013-04-26 20:18:01   2  2013     3   \n",
      "80002  Y          2013-04-12 19:05:00  2013-04-13 10:59:33   1  2013     3   \n",
      "80003  Y          2013-04-22 16:15:00  2013-04-23 09:06:06   1  2013     3   \n",
      "80004  Y          2013-04-12 19:05:00  2013-04-13 10:59:33  -1  2013     3   \n",
      "\n",
      "       oid        \n",
      "80000  NULL       \n",
      "80001  NULL       \n",
      "80002  NULL       \n",
      "80003  NULL       \n",
      "80004  NULL       \n",
      "\n",
      "[5 rows x 38 columns]\n",
      "<class 'pandas.core.frame.DataFrame'>\n",
      "       act_date             source  pos_ctry  \\\n",
      "90000  2013-03-11 00:00:00  1A      DE         \n",
      "90001  2013-03-11 00:00:00  1A      DE         \n",
      "90002  2013-03-12 00:00:00  1A      DE         \n",
      "90003  2013-03-14 00:00:00  1A      DE         \n",
      "90004  2013-03-14 00:00:00  1A      DE         \n",
      "\n",
      "                               pos_iata                         pos_oid    \\\n",
      "90000  dd047a06ad0adf73be44f6834ad03559  c6434682d6038b9ddb18ad040fdc99ae   \n",
      "90001  dd047a06ad0adf73be44f6834ad03559  c6434682d6038b9ddb18ad040fdc99ae   \n",
      "90002  dd047a06ad0adf73be44f6834ad03559  c6434682d6038b9ddb18ad040fdc99ae   \n",
      "90003  dd047a06ad0adf73be44f6834ad03559  c6434682d6038b9ddb18ad040fdc99ae   \n",
      "90004  dd047a06ad0adf73be44f6834ad03559  c6434682d6038b9ddb18ad040fdc99ae   \n",
      "\n",
      "                         rloc            cre_date             duration  \\\n",
      "90000  b0222f8bd3665fd14041d7aa08aadd62  2013-03-11 00:00:00      3266   \n",
      "90001  b0222f8bd3665fd14041d7aa08aadd62  2013-03-11 00:00:00      3266   \n",
      "90002  b0222f8bd3665fd14041d7aa08aadd62  2013-03-11 00:00:00      3266   \n",
      "90003  b0222f8bd3665fd14041d7aa08aadd62  2013-03-11 00:00:00      2886   \n",
      "90004  b0222f8bd3665fd14041d7aa08aadd62  2013-03-11 00:00:00      2886   \n",
      "\n",
      "       distance  dep_port    ...     route           carrier  bkg_class  \\\n",
      "90000       158  FRA         ...        BUDFRA            VR  V           \n",
      "90001       158  FRA         ...        BUDSTR            WF  T           \n",
      "90002       158  FRA         ...        BUDSTR            WF  T           \n",
      "90003         0  FRA         ...        FRABUD            VR  Q           \n",
      "90004         0  FRA         ...        BUDFRA            VR  V           \n",
      "\n",
      "       cab_class  brd_time             off_time            pax  year month  \\\n",
      "90000  Y          2013-04-25 14:55:00  2013-04-25 16:41:56   1  2013     3   \n",
      "90001  Y          2013-04-25 21:20:00  2013-04-25 23:01:28   1  2013     3   \n",
      "90002  Y          2013-04-25 21:20:00  2013-04-25 23:01:28  -1  2013     3   \n",
      "90003  Y          2013-04-23 16:35:00  2013-04-23 18:21:56  -1  2013     3   \n",
      "90004  Y          2013-04-25 14:55:00  2013-04-25 16:41:56  -1  2013     3   \n",
      "\n",
      "       oid        \n",
      "90000  NULL       \n",
      "90001  NULL       \n",
      "90002  NULL       \n",
      "90003  NULL       \n",
      "90004  NULL       \n",
      "\n",
      "[5 rows x 38 columns]\n"
     ]
    }
   ],
   "source": [
    "chunksdf = pd.read_csv(path_to_file, sep = '^' , nrows = 100000, chunksize = 10000)\n",
    "for chunk in chunksdf:\n",
    "    print(type(chunk))\n",
    "    print(chunk.head())"
   ]
  },
  {
   "cell_type": "code",
   "execution_count": 20,
   "metadata": {},
   "outputs": [
    {
     "name": "stdout",
     "output_type": "stream",
     "text": [
      "(10000, 3) (663,)\n",
      "(10000, 3) (679,)\n",
      "(10000, 3) (684,)\n",
      "(10000, 3) (755,)\n",
      "(10000, 3) (670,)\n",
      "(10000, 3) (737,)\n",
      "(10000, 3) (705,)\n",
      "(10000, 3) (714,)\n",
      "(10000, 3) (715,)\n",
      "(10000, 3) (717,)\n"
     ]
    }
   ],
   "source": [
    "chunksdf = pd.read_csv(path_to_file, sep = '^' , nrows = 100000, chunksize = 10000)\n",
    "\n",
    "result = []\n",
    "\n",
    "for chunk in chunksdf:\n",
    "    chunk = chunk[['arr_port','year','pax']]\n",
    "    chunk.dropna()\n",
    "    bookings_2013 = chunk[chunk['year'] == 2013]\n",
    "    bookings_per_airport = bookings_2013.groupby('arr_port')['pax'].sum()\n",
    "    print(chunk.shape, bookings_per_airport.shape)\n",
    "    \n",
    "    result.append(bookings_per_airport)"
   ]
  },
  {
   "cell_type": "markdown",
   "metadata": {},
   "source": [
    "#### How do we get the all the results of all chunks at one place?\n"
   ]
  },
  {
   "cell_type": "markdown",
   "metadata": {
    "collapsed": true
   },
   "source": [
    "Options:\n",
    "\n",
    "* df.append()\n",
    "\n",
    "* pd.concat()\n",
    "    "
   ]
  },
  {
   "cell_type": "code",
   "execution_count": 22,
   "metadata": {},
   "outputs": [
    {
     "data": {
      "text/plain": [
       "arr_port\n",
       "LHR     76\n",
       "LHR    106\n",
       "LHR     98\n",
       "LHR    104\n",
       "LHR    100\n",
       "LHR    108\n",
       "LHR    107\n",
       "LHR     95\n",
       "LHR     94\n",
       "LHR    118\n",
       "Name: pax, dtype: int64"
      ]
     },
     "execution_count": 22,
     "metadata": {},
     "output_type": "execute_result"
    }
   ],
   "source": [
    "allchunks = pd.concat(result)\n",
    "allchunks.index = allchunks.index.str.strip()\n",
    "allchunks.loc['LHR']"
   ]
  },
  {
   "cell_type": "code",
   "execution_count": 23,
   "metadata": {},
   "outputs": [
    {
     "data": {
      "text/plain": [
       "arr_port\n",
       "LHR    1006\n",
       "MCO     861\n",
       "JFK     795\n",
       "LAX     761\n",
       "BKK     747\n",
       "LAS     732\n",
       "SFO     705\n",
       "ORD     686\n",
       "CDG     676\n",
       "DXB     587\n",
       "Name: pax, dtype: int64"
      ]
     },
     "execution_count": 23,
     "metadata": {},
     "output_type": "execute_result"
    }
   ],
   "source": [
    "allchunks.groupby('arr_port').sum().sort_values(ascending=False).head(10)"
   ]
  },
  {
   "cell_type": "markdown",
   "metadata": {},
   "source": [
    "#### 2) pd.concat()"
   ]
  },
  {
   "cell_type": "code",
   "execution_count": null,
   "metadata": {
    "collapsed": true
   },
   "outputs": [],
   "source": []
  },
  {
   "cell_type": "markdown",
   "metadata": {},
   "source": [
    "## Complete Solution"
   ]
  },
  {
   "cell_type": "code",
   "execution_count": 24,
   "metadata": {},
   "outputs": [
    {
     "name": "stdout",
     "output_type": "stream",
     "text": [
      "CPU times: user 2min 33s, sys: 798 ms, total: 2min 34s\n",
      "Wall time: 2min 36s\n"
     ]
    }
   ],
   "source": [
    "%%time\n",
    "\n",
    "chunksdf = pd.read_csv(path_to_file, sep = '^' , chunksize = 10000)\n",
    "\n",
    "result = []\n",
    "\n",
    "for chunk in chunksdf:\n",
    "    chunk = chunk[['arr_port','year','pax']]\n",
    "    chunk.dropna()\n",
    "    bookings_2013 = chunk[chunk['year'] == 2013]\n",
    "    bookings_per_airport = bookings_2013.groupby('arr_port')['pax'].sum()\n",
    "    \n",
    "    result.append(bookings_per_airport)\n",
    "    \n",
    "allchunks = pd.concat(result)\n",
    "allchunks.index = allchunks.index.str.strip()\n",
    "\n",
    "print(allchunks.groupby('arr_port').sum().sort_values(ascending=False).head(10))"
   ]
  },
  {
   "cell_type": "code",
   "execution_count": null,
   "metadata": {
    "collapsed": true
   },
   "outputs": [],
   "source": []
  }
 ],
 "metadata": {
  "kernelspec": {
   "display_name": "Python 3",
   "language": "python",
   "name": "python3"
  },
  "language_info": {
   "codemirror_mode": {
    "name": "ipython",
    "version": 3
   },
   "file_extension": ".py",
   "mimetype": "text/x-python",
   "name": "python",
   "nbconvert_exporter": "python",
   "pygments_lexer": "ipython3",
   "version": "3.6.2"
  }
 },
 "nbformat": 4,
 "nbformat_minor": 1
}
